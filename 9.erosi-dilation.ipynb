{
 "cells": [
  {
   "cell_type": "markdown",
   "metadata": {},
   "source": [
    "# Erosion and Dilation of images"
   ]
  },
  {
   "cell_type": "markdown",
   "metadata": {},
   "source": [
    "### Basics of Erosion: \n",
    "- Erodes away the boundaries of the foreground object\n",
    "- Used to diminish the features of an image.\n",
    "\n",
    "#### Working of erosion: \n",
    "1. A kernel(a matrix of odd size(3,5,7) is convolved with the image.\n",
    "2. A pixel in the original image (either 1 or 0) will be considered 1 only if all the pixels under the kernel are 1, otherwise, it is eroded (made to zero).\n",
    "3. Thus all the pixels near the boundary will be discarded depending upon the size of the kernel.\n",
    "4. So the thickness or size of the foreground object decreases or simply the white region decreases in the image.\n",
    "\n",
    "### Basics of dilation: \n",
    "\n",
    "- Increases the object area\n",
    "- Used to accentuate features\n",
    "#### Working of dilation:\n",
    "\n",
    "1. A kernel(a matrix of odd size(3,5,7) is convolved with the image\n",
    "2. A pixel element in the original image is ‘1’ if at least one pixel under the kernel is ‘1’.\n",
    "3. It increases the white region in the image or the size of the foreground object increases "
   ]
  },
  {
   "cell_type": "code",
   "execution_count": 1,
   "metadata": {},
   "outputs": [],
   "source": [
    "# Python program to demonstrate erosion and \n",
    "# dilation of images. \n",
    "import cv2 \n",
    "import numpy as np "
   ]
  },
  {
   "cell_type": "code",
   "execution_count": 3,
   "metadata": {},
   "outputs": [],
   "source": [
    "def erosion(path):\n",
    "    # Reading the input image \n",
    "    img = cv2.imread(path) \n",
    "    \n",
    "    # Taking a matrix of size 5 as the kernel \n",
    "    kernel = np.ones((5, 5), np.uint8) \n",
    "    \n",
    "    # The first parameter is the original image, \n",
    "    # kernel is the matrix with which image is \n",
    "    # convolved and third parameter is the number \n",
    "    # of iterations, which will determine how much \n",
    "    # you want to erode/dilate a given image. \n",
    "    img_erosion = cv2.erode(img, kernel, iterations=1) \n",
    "    \n",
    "    cv2.imshow('Input', img) \n",
    "    cv2.imshow('Erosion', img_erosion) \n",
    "    \n",
    "    cv2.waitKey(0) "
   ]
  },
  {
   "cell_type": "code",
   "execution_count": null,
   "metadata": {},
   "outputs": [],
   "source": [
    "def dilation(path):\n",
    "    # Reading the input image \n",
    "    img = cv2.imread(path) \n",
    "    \n",
    "    # Taking a matrix of size 5 as the kernel \n",
    "    kernel = np.ones((5, 5), np.uint8) \n",
    "    \n",
    "    # The first parameter is the original image, \n",
    "    # kernel is the matrix with which image is \n",
    "    # convolved and third parameter is the number \n",
    "    # of iterations, which will determine how much \n",
    "    # you want to erode/dilate a given image. \n",
    "    img_dilation = cv2.dilate(img, kernel, iterations=1) \n",
    "    \n",
    "    cv2.imshow('Input', img) \n",
    "    cv2.imshow('Dilation', img_dilation) \n",
    "    \n",
    "    cv2.waitKey(0) "
   ]
  },
  {
   "cell_type": "code",
   "execution_count": 4,
   "metadata": {},
   "outputs": [],
   "source": [
    "path = r'image\\geeksforgeeks.png'\n",
    "erosion(path)"
   ]
  },
  {
   "cell_type": "code",
   "execution_count": null,
   "metadata": {},
   "outputs": [],
   "source": [
    "path = r'image\\geeksforgeeks.png'\n",
    "dilation(path)"
   ]
  }
 ],
 "metadata": {
  "kernelspec": {
   "display_name": "Python 3",
   "language": "python",
   "name": "python3"
  },
  "language_info": {
   "codemirror_mode": {
    "name": "ipython",
    "version": 3
   },
   "file_extension": ".py",
   "mimetype": "text/x-python",
   "name": "python",
   "nbconvert_exporter": "python",
   "pygments_lexer": "ipython3",
   "version": "3.11.0"
  }
 },
 "nbformat": 4,
 "nbformat_minor": 2
}
