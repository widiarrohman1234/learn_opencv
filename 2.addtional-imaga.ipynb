{
 "cells": [
  {
   "cell_type": "markdown",
   "metadata": {},
   "source": [
    "## Addition of Image\n",
    "Arithmetic Operations like Addition, Subtraction, and Bitwise Operations(AND, OR, NOT, XOR) can be applied to the input images. These operations can be helpful in enhancing the properties of the input images. The Image arithmetics are important for analyzing the input image properties. The operated images can be further used as an enhanced input image, and many more operations can be applied for clarifying, thresholding, dilating etc of the image. "
   ]
  },
  {
   "cell_type": "code",
   "execution_count": 5,
   "metadata": {},
   "outputs": [],
   "source": [
    "# organizing imports  \n",
    "import cv2  \n",
    "import numpy as np "
   ]
  },
  {
   "cell_type": "code",
   "execution_count": 4,
   "metadata": {},
   "outputs": [],
   "source": [
    "# path to input images are specified and   \n",
    "# images are loaded with imread command  \n",
    "image1 = cv2.imread('image\\img1.jpg')  \n",
    "image2 = cv2.imread('image\\img2.jpg')  \n",
    "\n",
    "# cv2.addWeighted is applied over the \n",
    "# image inputs with applied parameters \n",
    "weightedSum = cv2.addWeighted(image1, 0.5, image2, 0.4, 0) \n",
    "\n",
    "# cv2.subtract is applied over the \n",
    "# image inputs with applied parameters \n",
    "sub = cv2.subtract(image1, image2) \n",
    "  \n",
    "# the window showing output image \n",
    "# with the subtracted image  \n",
    "cv2.imshow('Subtracted Image', sub)\n",
    "\n",
    "# the window showing output image \n",
    "# with the weighted sum  \n",
    "cv2.imshow('Weighted Image', weightedSum) \n",
    "cv2.waitKey(0)\n",
    "cv2.destroyAllWindows()"
   ]
  },
  {
   "cell_type": "markdown",
   "metadata": {},
   "source": [
    "## Arithmetic Operations on Images\n",
    "1. AND\n",
    "2. OR\n",
    "3. XOR\n",
    "4. NOT"
   ]
  },
  {
   "cell_type": "code",
   "execution_count": 10,
   "metadata": {},
   "outputs": [],
   "source": [
    "# path to input images are specified and    \n",
    "# images are loaded with imread command   \n",
    "bit1 = cv2.imread(r'image\\1bit1.png')   \n",
    "bit2 = cv2.imread(r'image\\2bit2.png') \n",
    "cv2.imshow('bit1', bit1) \n",
    "cv2.imshow('bit2', bit2) \n",
    "\n",
    "# cv2.bitwise_and is applied over the \n",
    "# image inputs with applied parameters  \n",
    "dest_and = cv2.bitwise_and(bit1, bit2, mask = None) \n",
    "\n",
    "# cv2.bitwise_or is applied over the \n",
    "# image inputs with applied parameters  \n",
    "dest_or = cv2.bitwise_or(bit1, bit2, mask = None)\n",
    "\n",
    "# the window showing output image \n",
    "# with the Bitwise AND operation \n",
    "# on the input images \n",
    "cv2.imshow('Bitwise And', dest_and) \n",
    "\n",
    "# the window showing output image \n",
    "# with the Bitwise OR operation \n",
    "# on the input images \n",
    "cv2.imshow('Bitwise OR', dest_or) \n",
    "\n",
    "# cv2.bitwise_xor is applied over the \n",
    "# image inputs with applied parameters  \n",
    "dest_xor = cv2.bitwise_xor(bit1, bit2, mask = None) \n",
    "\n",
    "# the window showing output image \n",
    "# with the Bitwise XOR operation \n",
    "# on the input images \n",
    "cv2.imshow('Bitwise XOR', dest_xor) \n",
    "\n",
    "# cv2.bitwise_not is applied over the \n",
    "# image input with applied parameters  \n",
    "dest_not1 = cv2.bitwise_not(bit1, mask = None) \n",
    "dest_not2 = cv2.bitwise_not(bit2, mask = None)\n",
    "\n",
    "# the windows showing output image \n",
    "# with the Bitwise NOT operation \n",
    "# on the 1st and 2nd input image \n",
    "cv2.imshow('Bitwise NOT on image 1', dest_not1) \n",
    "cv2.imshow('Bitwise NOT on image 2', dest_not2) \n",
    "\n",
    "# De-allocate any associated memory usage   \n",
    "if cv2.waitKey(0) & 0xff == 27:  \n",
    "    cv2.destroyAllWindows()  \n"
   ]
  }
 ],
 "metadata": {
  "kernelspec": {
   "display_name": "Python 3",
   "language": "python",
   "name": "python3"
  },
  "language_info": {
   "codemirror_mode": {
    "name": "ipython",
    "version": 3
   },
   "file_extension": ".py",
   "mimetype": "text/x-python",
   "name": "python",
   "nbconvert_exporter": "python",
   "pygments_lexer": "ipython3",
   "version": "3.11.0"
  }
 },
 "nbformat": 4,
 "nbformat_minor": 2
}
