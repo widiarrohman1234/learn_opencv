{
 "cells": [
  {
   "cell_type": "markdown",
   "metadata": {},
   "source": [
    "# Thresholding techniques using OpenCV | Set-2 (Adaptive Thresholding)"
   ]
  },
  {
   "cell_type": "markdown",
   "metadata": {},
   "source": [
    "Syntax: `cv2.adaptiveThreshold(source, maxVal, adaptiveMethod, thresholdType, blocksize, constant)`\n",
    "\n",
    "Parameters: \n",
    "\n",
    "- `source`: Input Image array(Single-channel, 8-bit or floating-point)\n",
    "- `maxVal`: Maximum value that can be assigned to a pixel.\n",
    "- `adaptiveMethod`: Adaptive method decides how threshold value is calculated.\n",
    "\n",
    "* cv2.`ADAPTIVE_THRESH_MEAN_C`: Threshold Value = (Mean of the neighbourhood area values – constant value). In other words, it is the mean of the blockSize×blockSize neighborhood of a point minus constant.\n",
    "* cv2.`ADAPTIVE_THRESH_GAUSSIAN_C`: Threshold Value = (Gaussian-weighted sum of the neighbourhood values – constant value). In other words, it is a weighted sum of the blockSize×blockSize neighborhood of a point minus constant.\n",
    "\n",
    "- `thresholdType`: The type of thresholding to be applied.\n",
    "- `blockSize`: Size of a pixel neighborhood that is used to calculate a threshold value.\n",
    "- `constant`: A constant value that is subtracted from the mean or weighted sum of the neighbourhood pixels."
   ]
  },
  {
   "cell_type": "code",
   "execution_count": 5,
   "metadata": {},
   "outputs": [],
   "source": [
    "import cv2  \n",
    "import numpy as np  "
   ]
  },
  {
   "cell_type": "code",
   "execution_count": 7,
   "metadata": {},
   "outputs": [],
   "source": [
    "image1 = cv2.imread(r'image\\teksbooks.jpg')  \n",
    "   \n",
    "# cv2.cvtColor is applied over the \n",
    "# image input with applied parameters \n",
    "# to convert the image in grayscale  \n",
    "img = cv2.cvtColor(image1, cv2.COLOR_BGR2GRAY) \n",
    "   \n",
    "# applying different thresholding  \n",
    "# techniques on the input image \n",
    "thresh1 = cv2.adaptiveThreshold(img, 255, cv2.ADAPTIVE_THRESH_MEAN_C, \n",
    "                                          cv2.THRESH_BINARY, 199, 5) \n",
    "  \n",
    "thresh2 = cv2.adaptiveThreshold(img, 255, cv2.ADAPTIVE_THRESH_GAUSSIAN_C, \n",
    "                                          cv2.THRESH_BINARY, 199, 5) \n",
    "  \n",
    "# the window showing output images \n",
    "# with the corresponding thresholding  \n",
    "# techniques applied to the input image \n",
    "cv2.imshow('Original', img) \n",
    "cv2.imshow('Adaptive Mean', thresh1) \n",
    "cv2.imshow('Adaptive Gaussian', thresh2) \n",
    "  \n",
    "     \n",
    "# De-allocate any associated memory usage   \n",
    "if cv2.waitKey(0) & 0xff == 27:  \n",
    "    cv2.destroyAllWindows()"
   ]
  }
 ],
 "metadata": {
  "kernelspec": {
   "display_name": "Python 3",
   "language": "python",
   "name": "python3"
  },
  "language_info": {
   "codemirror_mode": {
    "name": "ipython",
    "version": 3
   },
   "file_extension": ".py",
   "mimetype": "text/x-python",
   "name": "python",
   "nbconvert_exporter": "python",
   "pygments_lexer": "ipython3",
   "version": "3.11.0"
  }
 },
 "nbformat": 4,
 "nbformat_minor": 2
}
