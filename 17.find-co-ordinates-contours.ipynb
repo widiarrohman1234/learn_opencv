{
 "cells": [
  {
   "cell_type": "markdown",
   "metadata": {},
   "source": [
    "# Find Co-ordinates of Contours using OpenCV\n",
    "In this article, we will learn how to find the co-ordinates of Contours with the help of OpenCV. Contours are defined as the line joining all the points along the boundary of an image that are having the same intensity. Contours come handy in shape analysis, finding the size of the object of interest, and object detection."
   ]
  },
  {
   "cell_type": "code",
   "execution_count": 1,
   "metadata": {},
   "outputs": [],
   "source": [
    "import numpy as np \n",
    "import cv2 "
   ]
  },
  {
   "cell_type": "code",
   "execution_count": 7,
   "metadata": {},
   "outputs": [],
   "source": [
    "# Reading image \n",
    "font = cv2.FONT_HERSHEY_COMPLEX \n",
    "img2 = cv2.imread(r'image\\contours.jpg', cv2.IMREAD_COLOR) \n",
    "\n",
    "# Reading same image in another  \n",
    "# variable and converting to gray scale. \n",
    "img = cv2.imread(r'image\\contours.jpg', cv2.IMREAD_GRAYSCALE) \n",
    "\n",
    "# Converting image to a binary image \n",
    "# ( black and white only image). \n",
    "_, threshold = cv2.threshold(img, 110, 255, cv2.THRESH_BINARY) \n",
    "  \n",
    "# Detecting contours in image. \n",
    "contours, _= cv2.findContours(threshold, cv2.RETR_TREE, \n",
    "                               cv2.CHAIN_APPROX_SIMPLE) \n",
    "  \n",
    "# Going through every contours found in the image. \n",
    "for cnt in contours : \n",
    "  \n",
    "    approx = cv2.approxPolyDP(cnt, 0.009 * cv2.arcLength(cnt, True), True) \n",
    "  \n",
    "    # draws boundary of contours. \n",
    "    cv2.drawContours(img2, [approx], 0, (0, 0, 255), 5)  \n",
    "  \n",
    "    # Used to flatted the array containing \n",
    "    # the co-ordinates of the vertices. \n",
    "    n = approx.ravel()  \n",
    "    i = 0\n",
    "  \n",
    "    for j in n : \n",
    "        if(i % 2 == 0): \n",
    "            x = n[i] \n",
    "            y = n[i + 1] \n",
    "  \n",
    "            # String containing the co-ordinates. \n",
    "            string = str(x) + \" \" + str(y)  \n",
    "  \n",
    "            if(i == 0): \n",
    "                # text on topmost co-ordinate. \n",
    "                cv2.putText(img2, \"Arrow tip\", (x, y), \n",
    "                                font, 0.5, (255, 150, 0))  \n",
    "            else: \n",
    "                # text on remaining co-ordinates. \n",
    "                cv2.putText(img2, string, (x, y),  \n",
    "                          font, 0.5, (0, 255, 0))  \n",
    "        i = i + 1\n",
    "  \n",
    "# Showing the final image. \n",
    "cv2.imshow('image2', img2)  \n",
    "  \n",
    "# Exiting the window if 'q' is pressed on the keyboard. \n",
    "if cv2.waitKey(0) & 0xFF == ord('q'):  \n",
    "    cv2.destroyAllWindows() "
   ]
  }
 ],
 "metadata": {
  "kernelspec": {
   "display_name": "Python 3",
   "language": "python",
   "name": "python3"
  },
  "language_info": {
   "codemirror_mode": {
    "name": "ipython",
    "version": 3
   },
   "file_extension": ".py",
   "mimetype": "text/x-python",
   "name": "python",
   "nbconvert_exporter": "python",
   "pygments_lexer": "ipython3",
   "version": "3.11.0"
  }
 },
 "nbformat": 4,
 "nbformat_minor": 2
}
