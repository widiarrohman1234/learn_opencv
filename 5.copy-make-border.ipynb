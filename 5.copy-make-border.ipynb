{
 "cells": [
  {
   "cell_type": "markdown",
   "metadata": {},
   "source": [
    "Syntax: cv2.copyMakeBorder(src, top, bottom, left, right, borderType, value)\n",
    "\n",
    "Parameters: \n",
    "- `src`: It is the source image. \n",
    "- `top`: It is the border width in number of pixels in top direction. \n",
    "- `bottom`: It is the border width in number of pixels in bottom direction. \n",
    "- `left`: It is the border width in number of pixels in left direction. \n",
    "- `right`: It is the border width in number of pixels in right direction. \n",
    "- `borderType`: It depicts what kind of border to be added. It is defined by flags like cv2.BORDER_CONSTANT, cv2.BORDER_REFLECT, etc dest: It is the destination image\n",
    "\n",
    "  * `cv2.BORDER_CONSTANT`: It adds a constant colored border. The value should be given as a keyword argument\n",
    "  * `cv2.BORDER_REFLECT`: The border will be mirror reflection of the border elements. Suppose, if image contains letters “abcdefg” then output will be “gfedcba|abcdefg|gfedcba“. \n",
    "  * `cv2.BORDER_REFLECT_101` or `cv2.BORDER_DEFAULT`: It does the same works as cv2.BORDER_REFLECT but with slight change. Suppose, if image contains letters “abcdefgh” then output will be “gfedcb|abcdefgh|gfedcba“. \n",
    "  * `cv2.BORDER_REPLICATE`: It replicates the last element. Suppose, if image contains letters “abcdefgh” then output will be “aaaaa|abcdefgh|hhhhh“. \n",
    "\n",
    "- `value`: It is an optional parameter which depicts color of border if border type is cv2.BORDER_CONSTANT.\n",
    "\n",
    "- `Return` Value: It returns an image. "
   ]
  },
  {
   "cell_type": "code",
   "execution_count": 5,
   "metadata": {},
   "outputs": [],
   "source": [
    "# Python program to explain cv2.copyMakeBorder() method \n",
    "\n",
    "# importing cv2 \n",
    "import cv2 \n",
    "\n",
    "# path \n",
    "path = r'image\\GG.png'\n",
    "\n",
    "# Reading an image in default mode \n",
    "image = cv2.imread(path) \n",
    "\n",
    "# Using cv2.copyMakeBorder() method \n",
    "image_const = cv2.copyMakeBorder(image, 10, 10, 10, 10, cv2.BORDER_CONSTANT, None, value = 0) \n",
    "image_refl = cv2.copyMakeBorder(image, 100, 100, 50, 50, cv2.BORDER_REFLECT) \n",
    "image_repl = cv2.copyMakeBorder(image, 100, 100, 50, 50, cv2.BORDER_REPLICATE) \n",
    "\n",
    "# Displaying the image \n",
    "cv2.imshow(\"image_const\", image_const) \n",
    "cv2.imshow(\"image_refl\", image_refl) \n",
    "cv2.imshow(\"image_repl\", image_repl) \n",
    "cv2.waitKey(0)\n",
    "cv2.destroyAllWindows()\n"
   ]
  }
 ],
 "metadata": {
  "kernelspec": {
   "display_name": "Python 3",
   "language": "python",
   "name": "python3"
  },
  "language_info": {
   "codemirror_mode": {
    "name": "ipython",
    "version": 3
   },
   "file_extension": ".py",
   "mimetype": "text/x-python",
   "name": "python",
   "nbconvert_exporter": "python",
   "pygments_lexer": "ipython3",
   "version": "3.11.0"
  }
 },
 "nbformat": 4,
 "nbformat_minor": 2
}
