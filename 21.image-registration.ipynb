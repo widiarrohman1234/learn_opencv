{
 "cells": [
  {
   "cell_type": "markdown",
   "metadata": {},
   "source": [
    "# Image Registration using OpenCV\n",
    "Image registration is a digital image processing technique that helps us align different images of the same scene. For instance, one may click the picture of a book from various angles. Below are a few instances that show the diversity of camera angles."
   ]
  },
  {
   "cell_type": "markdown",
   "metadata": {},
   "source": [
    "link https://www.geeksforgeeks.org/image-registration-using-opencv-python/"
   ]
  },
  {
   "cell_type": "code",
   "execution_count": 6,
   "metadata": {},
   "outputs": [],
   "source": [
    "import cv2\n",
    "import numpy as np\n",
    "\n",
    "# Open the image files.\n",
    "img1_color = cv2.imread(r'image\\align-book.webp')  # Image to be aligned.\n",
    "img2_color = cv2.imread(r'image\\ref-book.webp')    # Reference image.\n",
    "\n",
    "# Convert to grayscale.\n",
    "img1 = cv2.cvtColor(img1_color, cv2.COLOR_BGR2GRAY)\n",
    "img2 = cv2.cvtColor(img2_color, cv2.COLOR_BGR2GRAY)\n",
    "height, width = img2.shape\n",
    "\n",
    "# Create ORB detector with 5000 features.\n",
    "orb_detector = cv2.ORB_create(5000)\n",
    "\n",
    "# Find keypoints and descriptors.\n",
    "# The first arg is the image, second arg is the mask\n",
    "#  (which is not required in this case).\n",
    "kp1, d1 = orb_detector.detectAndCompute(img1, None)\n",
    "kp2, d2 = orb_detector.detectAndCompute(img2, None)\n",
    "\n",
    "# Match features between the two images.\n",
    "# We create a Brute Force matcher with \n",
    "# Hamming distance as measurement mode.\n",
    "matcher = cv2.BFMatcher(cv2.NORM_HAMMING, crossCheck = True)\n",
    "\n",
    "# Match the two sets of descriptors.\n",
    "matches = matcher.match(d1, d2)\n",
    "\n",
    "# Sort matches on the basis of their Hamming distance.\n",
    "# error no sort in matches\n",
    "# matches.sort(key = lambda x: x.distance)\n",
    "\n",
    "# Take the top 90 % matches forward.\n",
    "matches = matches[:int(len(matches)*0.9)]\n",
    "no_of_matches = len(matches)\n",
    "\n",
    "# Define empty matrices of shape no_of_matches * 2.\n",
    "p1 = np.zeros((no_of_matches, 2))\n",
    "p2 = np.zeros((no_of_matches, 2))\n",
    "\n",
    "for i in range(len(matches)):\n",
    "  p1[i, :] = kp1[matches[i].queryIdx].pt\n",
    "  p2[i, :] = kp2[matches[i].trainIdx].pt\n",
    "\n",
    "# Find the homography matrix.\n",
    "homography, mask = cv2.findHomography(p1, p2, cv2.RANSAC)\n",
    "\n",
    "# Use this matrix to transform the\n",
    "# colored image wrt the reference image.\n",
    "transformed_img = cv2.warpPerspective(img1_color, homography, (width, height))\n",
    "\n",
    "# Save the output.\n",
    "cv2.imshow('output.jpg', transformed_img)\n",
    "cv2.waitKey(0)\n",
    "cv2.destroyAllWindows()"
   ]
  }
 ],
 "metadata": {
  "kernelspec": {
   "display_name": "Python 3",
   "language": "python",
   "name": "python3"
  },
  "language_info": {
   "codemirror_mode": {
    "name": "ipython",
    "version": 3
   },
   "file_extension": ".py",
   "mimetype": "text/x-python",
   "name": "python",
   "nbconvert_exporter": "python",
   "pygments_lexer": "ipython3",
   "version": "3.11.0"
  }
 },
 "nbformat": 4,
 "nbformat_minor": 2
}
