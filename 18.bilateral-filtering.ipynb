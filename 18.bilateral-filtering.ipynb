{
 "cells": [
  {
   "cell_type": "markdown",
   "metadata": {},
   "source": [
    "# Bilateral Filtering\n",
    "A bilateral filter is used for smoothening images and reducing noise, while preserving edges. However, these convolutions often result in a loss of important edge information, since they blur out everything, irrespective of it being noise or an edge. To counter this problem, the non-linear bilateral filter was introduced."
   ]
  },
  {
   "cell_type": "markdown",
   "metadata": {},
   "source": [
    "link https://www.geeksforgeeks.org/python-bilateral-filtering/"
   ]
  },
  {
   "cell_type": "code",
   "execution_count": 4,
   "metadata": {},
   "outputs": [],
   "source": [
    "import cv2 \n",
    "  \n",
    "# Read the image. \n",
    "img = cv2.imread(r'image\\taj.jpg')\n",
    "\n",
    "# Apply bilateral filter with d = 15,  \n",
    "# sigmaColor = sigmaSpace = 75. \n",
    "bilateral = cv2.bilateralFilter(img, 15, 75, 75) \n",
    "  \n",
    "# Save the output. \n",
    "cv2.imshow('taj ori', img) \n",
    "cv2.imshow('taj bilateral', bilateral) \n",
    "cv2.waitKey(0)\n",
    "cv2.destroyAllWindows()"
   ]
  }
 ],
 "metadata": {
  "kernelspec": {
   "display_name": "Python 3",
   "language": "python",
   "name": "python3"
  },
  "language_info": {
   "codemirror_mode": {
    "name": "ipython",
    "version": 3
   },
   "file_extension": ".py",
   "mimetype": "text/x-python",
   "name": "python",
   "nbconvert_exporter": "python",
   "pygments_lexer": "ipython3",
   "version": "3.11.0"
  }
 },
 "nbformat": 4,
 "nbformat_minor": 2
}
