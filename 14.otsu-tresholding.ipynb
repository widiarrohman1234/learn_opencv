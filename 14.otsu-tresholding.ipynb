{
 "cells": [
  {
   "cell_type": "markdown",
   "metadata": {},
   "source": [
    "# Thresholding techniques using OpenCV | Set-3 (Otsu Thresholding)"
   ]
  },
  {
   "cell_type": "markdown",
   "metadata": {},
   "source": [
    "In the previous posts, **Simple Thresholding** and **Adaptive Thresholding** were explained. In Simple Thresholding, the global value of threshold was used which remained constant throughout. In Adaptive thresholding, the threshold value is calculated for smaller regions with different threshold values for different regions with respect to the change in lighting.\n",
    "\n",
    "In **Otsu Thresholding**, a value of the threshold isn’t chosen but is determined automatically. A bimodal image (two distinct image values) is considered. The histogram generated contains two peaks. So, a generic condition would be to choose a threshold value that lies in the middle of both the histogram peak values."
   ]
  },
  {
   "cell_type": "markdown",
   "metadata": {},
   "source": [
    "- Syntax: `cv2.threshold(source, thresholdValue, maxVal, thresholdingTechnique)`\n",
    "- Parameters: \n",
    "  - `source`: Input Image array (must be in Grayscale).\n",
    "  - `thresholdValue`: Value of Threshold below and above which pixel values will change accordingly.\n",
    "  - `maxVal`: Maximum value that can be assigned to a pixel.\n",
    "  - `thresholdingTechnique`: The type of thresholding to be applied."
   ]
  },
  {
   "cell_type": "code",
   "execution_count": 1,
   "metadata": {},
   "outputs": [],
   "source": [
    "import cv2          \n",
    "import numpy as np "
   ]
  },
  {
   "cell_type": "code",
   "execution_count": 2,
   "metadata": {},
   "outputs": [],
   "source": [
    "# path to input image is specified and \n",
    "# image is loaded with imread command \n",
    "image1 = cv2.imread(r'image\\geeksforgeeks.png') \n",
    "# image1 = cv2.imread(r'image\\teksbooks.jpg')  \n",
    "  \n",
    "# cv2.cvtColor is applied over the \n",
    "# image input with applied parameters \n",
    "# to convert the image in grayscale \n",
    "img = cv2.cvtColor(image1, cv2.COLOR_BGR2GRAY) \n",
    "  \n",
    "# applying Otsu thresholding \n",
    "# as an extra flag in binary  \n",
    "# thresholding      \n",
    "ret, thresh1 = cv2.threshold(img, 120, 255, cv2.THRESH_BINARY + \n",
    "                                            cv2.THRESH_OTSU) \n",
    "# the window showing output image          \n",
    "# with the corresponding thresholding          \n",
    "# techniques applied to the input image     \n",
    "cv2.imshow('cvtColor', img)          \n",
    "cv2.imshow('Original', image1)          \n",
    "cv2.imshow('Otsu Threshold', thresh1)          \n",
    "       \n",
    "# De-allocate any associated memory usage          \n",
    "if cv2.waitKey(0) & 0xff == 27: \n",
    "    cv2.destroyAllWindows()     "
   ]
  }
 ],
 "metadata": {
  "kernelspec": {
   "display_name": "Python 3",
   "language": "python",
   "name": "python3"
  },
  "language_info": {
   "codemirror_mode": {
    "name": "ipython",
    "version": 3
   },
   "file_extension": ".py",
   "mimetype": "text/x-python",
   "name": "python",
   "nbconvert_exporter": "python",
   "pygments_lexer": "ipython3",
   "version": "3.11.0"
  }
 },
 "nbformat": 4,
 "nbformat_minor": 2
}
